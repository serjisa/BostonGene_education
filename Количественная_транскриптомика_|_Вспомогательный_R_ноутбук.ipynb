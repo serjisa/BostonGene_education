{
  "nbformat": 4,
  "nbformat_minor": 0,
  "metadata": {
    "colab": {
      "name": "Количественная транскриптомика | Вспомогательный R-ноутбук.ipynb",
      "provenance": [],
      "collapsed_sections": [],
      "toc_visible": true,
      "include_colab_link": true
    },
    "kernelspec": {
      "name": "ir",
      "display_name": "R"
    }
  },
  "cells": [
    {
      "cell_type": "markdown",
      "metadata": {
        "id": "view-in-github",
        "colab_type": "text"
      },
      "source": [
        "<a href=\"https://colab.research.google.com/github/serjisa/BostonGene_education/blob/master/%D0%9A%D0%BE%D0%BB%D0%B8%D1%87%D0%B5%D1%81%D1%82%D0%B2%D0%B5%D0%BD%D0%BD%D0%B0%D1%8F_%D1%82%D1%80%D0%B0%D0%BD%D1%81%D0%BA%D1%80%D0%B8%D0%BF%D1%82%D0%BE%D0%BC%D0%B8%D0%BA%D0%B0_%7C_%D0%92%D1%81%D0%BF%D0%BE%D0%BC%D0%BE%D0%B3%D0%B0%D1%82%D0%B5%D0%BB%D1%8C%D0%BD%D1%8B%D0%B9_R_%D0%BD%D0%BE%D1%83%D1%82%D0%B1%D1%83%D0%BA.ipynb\" target=\"_parent\"><img src=\"https://colab.research.google.com/assets/colab-badge.svg\" alt=\"Open In Colab\"/></a>"
      ]
    },
    {
      "cell_type": "markdown",
      "metadata": {
        "id": "twRixxnhHDad",
        "colab_type": "text"
      },
      "source": [
        "![alt text](http://www.bostongene.com/wp-content/uploads/2019/04/br-website-logo_notm.png)"
      ]
    },
    {
      "cell_type": "markdown",
      "metadata": {
        "id": "4dYvHXV_HIuH",
        "colab_type": "text"
      },
      "source": [
        "# Установка R-пакетов"
      ]
    },
    {
      "cell_type": "markdown",
      "metadata": {
        "id": "7ROyHTtYHMs8",
        "colab_type": "text"
      },
      "source": [
        "Для занятия по количественной транскриптомике следует в своём локальном Google Colab выполнитель следующие команды (весь рассматриваемый вами ноутбук на языке R без rpy2)."
      ]
    },
    {
      "cell_type": "code",
      "metadata": {
        "id": "Z60PpIfIeF4Z",
        "colab_type": "code",
        "outputId": "e05bd228-5de8-4f33-dd9e-1226ae3f220b",
        "colab": {
          "base_uri": "https://localhost:8080/",
          "height": 298
        }
      },
      "source": [
        "if (!requireNamespace(\"BiocManager\", quietly = TRUE))\n",
        "    install.packages(\"BiocManager\")\n",
        "\n",
        "BiocManager::install(\"DESeq2\")"
      ],
      "execution_count": 1,
      "outputs": [
        {
          "output_type": "stream",
          "text": [
            "Installing package into ‘/usr/local/lib/R/site-library’\n",
            "(as ‘lib’ is unspecified)\n",
            "\n",
            "Bioconductor version 3.10 (BiocManager 1.30.10), R 3.6.3 (2020-02-29)\n",
            "\n",
            "Installing package(s) 'BiocVersion', 'DESeq2'\n",
            "\n",
            "also installing the dependencies ‘bit’, ‘bitops’, ‘formatR’, ‘bit64’, ‘blob’, ‘RCurl’, ‘GenomeInfoDbData’, ‘zlibbioc’, ‘matrixStats’, ‘lambda.r’, ‘futile.options’, ‘RSQLite’, ‘XML’, ‘png’, ‘jpeg’, ‘checkmate’, ‘GenomeInfoDb’, ‘XVector’, ‘DelayedArray’, ‘futile.logger’, ‘snow’, ‘AnnotationDbi’, ‘annotate’, ‘Formula’, ‘latticeExtra’, ‘acepack’, ‘gridExtra’, ‘data.table’, ‘htmlTable’, ‘viridis’, ‘S4Vectors’, ‘IRanges’, ‘GenomicRanges’, ‘SummarizedExperiment’, ‘BiocGenerics’, ‘Biobase’, ‘BiocParallel’, ‘genefilter’, ‘locfit’, ‘geneplotter’, ‘Hmisc’, ‘RcppArmadillo’\n",
            "\n",
            "\n",
            "Old packages: 'broom', 'covr', 'crosstalk', 'curl', 'dplyr', 'farver',\n",
            "  'forcats', 'fs', 'ggplot2', 'glue', 'lifecycle', 'plyr', 'processx', 'Rcpp',\n",
            "  'rlang', 'roxygen2', 'rprojroot', 'shiny', 'testthat', 'vctrs', 'xfun',\n",
            "  'xml2', 'xtable', 'foreign', 'nlme', 'survival'\n",
            "\n"
          ],
          "name": "stderr"
        }
      ]
    },
    {
      "cell_type": "code",
      "metadata": {
        "id": "IS3VN3qamf20",
        "colab_type": "code",
        "colab": {}
      },
      "source": [
        "library(\"DESeq2\")\n",
        "library(ggplot2)"
      ],
      "execution_count": 0,
      "outputs": []
    }
  ]
}